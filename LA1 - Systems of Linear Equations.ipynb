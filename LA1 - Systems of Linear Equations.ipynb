{
 "cells": [
  {
   "cell_type": "markdown",
   "id": "3b44739f",
   "metadata": {},
   "source": [
    "Let's pick some random things in mathematical space, $x,y\\in \\mathbb{R}$. For now they are just some variables that can be any real number. I'm sure you remember the idea of a $\\textbf{linear equation}$: $y=mx+b$. It has a slope, historically labled $m$, and an intercept, often $b$, which is where $y$ falls when $x=0$. It's just a line, so let's pick an $m$ and a $b$:\n",
    "\n",
    "$$y=\\frac{3}{4}x+8$$\n",
    "\n",
    "Playing with some algebra provides $-\\frac{3}{4}x+y=8$, or equivalently$-3x+4y=32$. For our own purposes we will take it a step further and group the negative:\n",
    "\n",
    "$$(-3)x +(4)y = 32$$\n",
    "\n",
    "$4$ and $-3$ we call $\\textbf{scalar values}$. They become more important later. For now they're just factors that enlarge or decrease the size of $x$ and $y$. Hence, they \"scale\" our variables. Notice that our line hasn't changed though the equation has slightly; when we pick either an $x$ or a $y$ it forces the other variable into place. Mathematically the equation is the solution set of:\n",
    "\n",
    "$$\\color{blue}{L_{1}}=\\{(x,y)\\in \\mathbb{R}^{2}:-3x+4y=32\\}$$\n",
    "\n",
    "This may look scary, but it's just the set of all pairs $(x,y)$ that solve the equation.\n",
    "\n",
    "Let's plot this line! First we need to do a few technical things like import a number of packages. You don't need to worry about this too much unless you're interested in the code."
   ]
  },
  {
   "cell_type": "code",
   "execution_count": null,
   "id": "01d6dc2d",
   "metadata": {},
   "outputs": [],
   "source": [
    "import math\n",
    "import numpy as np\n",
    "import matplotlib.pyplot as plt\n",
    "import sys"
   ]
  },
  {
   "cell_type": "markdown",
   "id": "2d90bf8d",
   "metadata": {},
   "source": [
    "Though $x$ can be an infinite number of values, to plot our line all we need is stored in just any two points on the line. I'll just choose $x=-16$ and $x=16$. The $y$ value is forced by our equation, $y_{1}=\\frac{3}{4}x+8$, to coincide with our set definition."
   ]
  },
  {
   "cell_type": "code",
   "execution_count": null,
   "id": "6229f7a8",
   "metadata": {},
   "outputs": [],
   "source": [
    "x = np.linspace(-16,16,2)\n",
    "y1 = (3/4)*x + 8\n",
    "print(\"x values:\",x)\n",
    "print(\"y values:\",y1)"
   ]
  },
  {
   "cell_type": "markdown",
   "id": "79730155",
   "metadata": {},
   "source": [
    "The pairs $(-16,-4)$ and $(16, 20)$ are cartesian coordinates, and if we recall the general building blocks of a line from prior math classes we can use these to define a line in $\\mathbb{R}^{2}$. Set $m=\\frac{\\Delta y}{\\Delta x}$ as slope:\n",
    "\n",
    "$$m(x-x_{1})= \\frac{y_{1}-y_{2}}{x_{1}-x_{2}}(x-x_{1})=(y-y_{1})$$\n",
    "\n",
    "Substituting and simplying the left side we see:\n",
    "\n",
    "$$ \\frac{20-(-4)}{16-(-16)}(x-16)=\\frac{24}{32}(x-16)=\\frac{3}{4}x-\\frac{3\\cdot16}{4}=\\frac{3}{4}x-12$$\n",
    "\n",
    "Joining with the right side, our line re-emerges:\n",
    "\n",
    "$$ \\frac{3}{4}x-12=y-20\\implies\\frac{3}{4}x+8=y $$\n",
    "\n",
    "This is not necessarily a method we see often in this course, but lines are extremely malleable. Moreover, the information necessary to store a line is minimal. All we need are two points. The line itself is made up of the infinite points and consists of the entirey of $\\{(x,y)\\in \\mathbb{R}^{2}:\\frac{3}{4}x+8=y\\}$, and this set is equivalent to the one mentioned before, $\\{(x,y)\\in \\mathbb{R}^{2}:-3x+4y=32\\}$.\n",
    "\n",
    "Now, in order to plot our line we will create a function that effectively takes in our slope in raw form as the $x$ value and $y$ value pairs and spits out a cartesian graph. The function is a little messy, so bear with me a second please."
   ]
  },
  {
   "cell_type": "code",
   "execution_count": null,
   "id": "1d448728",
   "metadata": {},
   "outputs": [],
   "source": [
    "def plot2D(lines,points):\n",
    "    negx, posx, negy, posy, frqncy = -16, 16, -16, 16, 2\n",
    "    fig, ax = plt.subplots(figsize=(10,10))\n",
    "    ax.set(xlim=(negx-1, posx+1), ylim=(negy-1, posy+1), aspect='equal')\n",
    "    ax.spines['bottom'].set_position('zero')\n",
    "    ax.spines['left'].set_position('zero')\n",
    "    ax.spines['top'].set_visible(False)\n",
    "    ax.spines['right'].set_visible(False)\n",
    "    ax.set_xlabel('x', size=14, labelpad=-24, x=1.03)\n",
    "    ax.set_ylabel('y', size=14, labelpad=-21, y=1.02, rotation=0)\n",
    "    x_ticks = np.arange(negx, posx+1, frqncy)\n",
    "    y_ticks = np.arange(negy, posy+1, frqncy)\n",
    "    ax.set_xticks(x_ticks[x_ticks != 0])\n",
    "    ax.set_yticks(y_ticks[y_ticks != 0])\n",
    "    ax.set_xticks(np.arange(negx, posx+1), minor=True)\n",
    "    ax.set_yticks(np.arange(negy, posy+1), minor=True)\n",
    "    ax.grid(which='both', color='grey', linewidth=1, linestyle='-', alpha=0.2)\n",
    "    arrow_fmt = dict(markersize=4, color='black', clip_on=False)\n",
    "    ax.plot((1), (0), marker='>', transform=ax.get_yaxis_transform(), **arrow_fmt)\n",
    "    ax.plot((0), (1), marker='^', transform=ax.get_xaxis_transform(), **arrow_fmt)\n",
    "    ax.plot((-0), (0), marker='<', transform=ax.get_yaxis_transform(), **arrow_fmt)\n",
    "    ax.plot((0), (-0), marker='v', transform=ax.get_xaxis_transform(), **arrow_fmt)\n",
    "    for ell in lines:\n",
    "        ax.plot(ell[0], ell[1], alpha=0.5, color=ell[2])\n",
    "    for point in points:\n",
    "        ax.scatter([point[0]],[point[1]], color='black')"
   ]
  },
  {
   "cell_type": "markdown",
   "id": "d8c87b26",
   "metadata": {},
   "source": [
    "$\\textit{breathes}$\n",
    "\n",
    "Okay! Got it! We're good...\n",
    "\n",
    "Now let's see what we got. I'll throw in a dot at the origin, just to keep track."
   ]
  },
  {
   "cell_type": "code",
   "execution_count": null,
   "id": "6e192c52",
   "metadata": {},
   "outputs": [],
   "source": [
    "plot2D([[x,y1,'blue']],\n",
    "       [(0,0)])"
   ]
  },
  {
   "cell_type": "markdown",
   "id": "8f0b8f6c",
   "metadata": {},
   "source": [
    "There is our first line! We've plotted it across $\\mathbb{R}^{2}$. Let's add some more!\n",
    "\n",
    "We will add:\n",
    "\n",
    "$\\hphantom{abcdefghijklmnop}  \\color{orange}{L_{2}}=\\{(x,y)\\in \\mathbb{R}^{2}:-2x+3=y\\} $\n",
    "\n",
    "\n",
    "$\\hphantom{abcdefghijklmnop} \\color{green}{L_{3}}=\\{(x,y)\\in \\mathbb{R}^{2}: x=y\\} $\n",
    "\n",
    "\n",
    "$\\hphantom{abcdefghijklmnop}  \\color{red}{L_{4}}=\\{(x,y)\\in \\mathbb{R}^{2}: y=3\\} $\n",
    "\n",
    "\n",
    "$\\hphantom{abcdefghijklmnop} \\color{purple}{L_{5}}=\\{(x,y)\\in \\mathbb{R}^{2}:-\\frac{1}{7}x+14=y\\} $\n",
    "\n",
    "\n",
    "$\\hphantom{abcdefghijklmnop} \\color{brown}{L_{6}}=\\{(x,y)\\in \\mathbb{R}^{2}: x=8\\} $"
   ]
  },
  {
   "cell_type": "code",
   "execution_count": null,
   "id": "5d76eff6",
   "metadata": {},
   "outputs": [],
   "source": [
    "y2 = (-2)*x + 3\n",
    "y3 = x\n",
    "y4 = 0*x+3\n",
    "y5 = (-1/7)*x+14\n",
    "x2 = 0*x+8"
   ]
  },
  {
   "cell_type": "code",
   "execution_count": null,
   "id": "c558101c",
   "metadata": {},
   "outputs": [],
   "source": [
    "plot2D([[x,y1,'blue'],\n",
    "        [x,y2,'orange'],\n",
    "        [x,y3,'green'],\n",
    "        [x,y4,'red'],\n",
    "        [x,y5,'purple'],\n",
    "        [x2, np.linspace(-17,17,2),'brown']],\n",
    "       [(0,0)])"
   ]
  },
  {
   "cell_type": "markdown",
   "id": "b217f48e",
   "metadata": {},
   "source": [
    "Woah that's a lot, but we have now plotted a bunch of great lines!\n",
    "\n",
    "Let's pick two; our original $\\color{blue}{L_{1}}=\\{(x,y)\\in \\mathbb{R}^{2}:\\frac{3}{4}x+8=y\\}$ and another one I happen to like, $ \\color{purple}{L_{5}}=\\{(x,y)\\in \\mathbb{R}^{2}:-\\frac{1}{7}x+14=y\\} $. Remember though that we have an equivalent format for both. For our purposes the other form will be better to think of. $\\color{blue}{L_{1}}=\\{(x,y)\\in \\mathbb{R}^{2}:-3x+4y=32\\}$ was our original line, and using similar motivations we can find an equivalent set for $\\color{purple}{L_{5}}$ in $\\{(x,y)\\in \\mathbb{R}^{2}:x+7y=98\\}$. Cutting out the noise, we plot them to see exactly what we're looking at:"
   ]
  },
  {
   "cell_type": "code",
   "execution_count": null,
   "id": "8f8e3a5e",
   "metadata": {},
   "outputs": [],
   "source": [
    "plot2D([[x,y1,'blue'],\n",
    "        [x,y5,'purple']],\n",
    "       [(0,0)])"
   ]
  },
  {
   "cell_type": "markdown",
   "id": "923a26d1",
   "metadata": {},
   "source": [
    "Notice that the two lines intersect! We don't know exactly where just yet, but I promise we will find it! For now we say that their intersection is nonempty or $\\color{blue}{L_{5}}\\cap \\color{purple}{L_{5}}\\neq \\varnothing$. You also probably realize that the interestion is a single point. We can find it using our linear equations and the substitution method of course. The substitution method I'm refering to is just setting both sides equal. I'm sure you're very familiar with it. Don't worry if this looks painstaking and annoying. I chose it specifically to emphasize how painstaking it can be.\n",
    "\n",
    "$$ -\\frac{1}{7}x+14=y=\\frac{3}{4}x+8 $$\n",
    "$$6=14-8=(\\frac{3}{4}+\\frac{1}{7})x= (\\frac{21+4}{28})x =\\frac{25}{28}x $$\n",
    "$$ \\frac{168}{25}=\\frac{28\\cdot6}{25}=x \\implies y=-\\frac{1}{7}\\big(\\frac{28\\cdot6}{25}\\big)+14=-\\frac{4\\cdot6}{25}+\\frac{14\\cdot25}{25}=\\frac{350-24}{25}=\\frac{326}{25}$$\n",
    "\n",
    "At the end we see $\\color{blue}{L_{5}}\\cap \\color{purple}{L_{5}}=\\{\\big(\\frac{168}{25},\\frac{326}{25}\\big)\\}=\\{(6.72, 13.04)\\}$. Looks close to what we want right? Plotting this point along with our lines we see that we have precisely the intersection we were looking for:"
   ]
  },
  {
   "cell_type": "code",
   "execution_count": null,
   "id": "64f1d653",
   "metadata": {},
   "outputs": [],
   "source": [
    "plot2D([[x,y1,'blue'],\n",
    "        [x,y5,'purple']],\n",
    "       [(0,0), (168/25, 326/25)])"
   ]
  },
  {
   "cell_type": "markdown",
   "id": "d6d79903",
   "metadata": {},
   "source": [
    "This was a LOT of effort though. What if there was a better way? Let's line up our equations in this \"scalar\" form:\n",
    "\n",
    "$$ (1)x+(7)y=98 $$\n",
    "$$ (-3)x+(4)y=32 $$\n",
    "\n",
    "Let's multiply the first equation by $3$ on both sides to get:\n",
    "\n",
    "$$ (3)x+(21)y=294 $$\n",
    "$$ (-3)x+(4)y=32 $$\n",
    "\n",
    "Then, should we add our two equations together we get:\n",
    "\n",
    "$$ (0)x+(25)y=326 \\implies y=\\frac{326}{25}$$\n",
    "\n",
    "We're going to perform a substitution, but this time we can strategically choose the easiest one for our purposes:\n",
    "\n",
    "$$(1)x+(7)y=x+7\\big(\\frac{326}{25}\\big)=98 \\implies x=\\frac{98\\cdot 25-326\\cdot 7}{25}=\\frac{168}{25}$$\n",
    "\n",
    "Maybe you pulled out your calculator to squeeze in some of those big multiplications, but that's fine. Your secret is safe with me. In fact, I did too. Don't tell anyone, but you shouldn't need to do that in your head. What you should take away is how clean this method must feel after running around with the other method. The substitution thing felt like running around in circles even though the results don't change.\n",
    "\n",
    "This is the important bit though. Spiritually a large chunk of linear algebra is solving $\\textbf{systems of linear equations}$ just like this one. As we move along tools will form to justify adding more variables and equations, but in the end you're mostly looking for these intersecting points.\n",
    "\n",
    "You can take some of the other lines now and try to find their intersections on some scrap paper using this method. You can even check if you're right by adding them to the following code where you see our above solution added. There are a bunch so take your time."
   ]
  },
  {
   "cell_type": "code",
   "execution_count": null,
   "id": "6d16954b",
   "metadata": {},
   "outputs": [],
   "source": [
    "plot2D([[x,y1,'blue'],\n",
    "        [x,y2,'orange'],\n",
    "        [x,y3,'green'],\n",
    "        [x,y4,'red'],\n",
    "        [x,y5,'purple'],\n",
    "        [x2,np.linspace(-17,17,2),'brown']],\n",
    "       [(0,0), (168/25, 326/25)])"
   ]
  },
  {
   "cell_type": "markdown",
   "id": "f59a9f03",
   "metadata": {},
   "source": [
    "Let's return really quickly to our original line $\\color{blue}{L_{1}}=\\{(x,y)\\in \\mathbb{R}^{2}:-3x+4y=32\\}$. What if I define $\\color{teal}{L_{7}}=\\{(x,y)\\in \\mathbb{R}^{2}:-3x+4y=12\\}$ or equivalently $\\color{teal}{L_{7}}=\\{(x,y)\\in \\mathbb{R}^{2}:\\frac{3}{4}x+3=y\\}$. Let's plot $\\color{teal}{L_{7}}$ and $\\color{blue}{L_{1}}$."
   ]
  },
  {
   "cell_type": "code",
   "execution_count": null,
   "id": "8ec891c4",
   "metadata": {},
   "outputs": [],
   "source": [
    "y7=(3/4)*x+3\n",
    "plot2D([[x,y1,'blue'],\n",
    "        [x,y7,'teal']],\n",
    "       [(0,0)])"
   ]
  },
  {
   "cell_type": "markdown",
   "id": "926cf08a",
   "metadata": {},
   "source": [
    "Since these two are on a flat plane together, they will never intersect. In fact, they are parallel. We can check that too:\n",
    "\n",
    "$$ (-3)x+(4)y=32 $$\n",
    "$$ (-3)x+(4)y=4 $$\n",
    "\n",
    "Let's subtact the second line from the first one to get:\n",
    "\n",
    "$$ 0=(0)x+(0)y=28 $$\n",
    "\n",
    "This contradiction shows that our system has no possible solutions. It agrees fully with our assumption that they are parallel. Now, what if instead we considered the line $\\color{goldenrod}{L_{8}}=\\{(x,y)\\in \\mathbb{R}^{2}:9x-12y=-96\\}$?\n",
    "\n",
    "$$ (-3)x+(4)y=32 $$\n",
    "$$ (9)x+(-12)y=-96 $$\n",
    "\n",
    "Let's multiply the top line by $3$ to get:\n",
    "\n",
    "$$ (-9)x+(12)y=96 $$\n",
    "$$ (9)x+(-12)y=-96 $$\n",
    "\n",
    "Ah! Interesting. Adding these two lines together presents $0=0$! It should be easy to reason that it does not matter what variable we choose for either $x$ or $y$, the lines will always agree as they share every point in common. You can also see with a little algebra that the sets are equivalent. So while $\\color{blue}{L_{1}}\\cap \\color{teal}{L_{7}}=\\varnothing$, we see $\\color{blue}{L_{1}}\\cap \\color{goldenrod}{L_{8}}=\\color{blue}{L_{1}}=\\color{goldenrod}{L_{8}}$.\n",
    "\n",
    "Though lines have multiple representations, they are uniquely defined in the plane by a chosen type of representation. To be easy on ourselves we generally decide that unique representation to be the line in $\\textbf{simplest form}$ as in the smallest \"scalar\" values, or $\\textbf{coefficients}$, without any fractions.\n",
    "\n",
    "Indeed, we can check by graphing. Remember that our original line, $\\color{blue}{L_{1}}$. Let's add $\\color{goldenrod}{L_{8}}$ in goldenrod. I'm also going to put some random horizontal lines in those colors to serve as a contrast. If all is as we suspect, the colors of $\\color{blue}{L_{1}}$ and $\\color{goldenrod}{L_{8}}$ will merge to form a new color and juxatopose the separate colors of our randomly inserted lines."
   ]
  },
  {
   "cell_type": "code",
   "execution_count": null,
   "id": "fc08b4fb",
   "metadata": {},
   "outputs": [],
   "source": [
    "y8=(-9/-12)*x+(-96/-12)\n",
    "plot2D([[x,y1,'blue'],\n",
    "        [x,y8,'goldenrod'],\n",
    "        [x,0*x+10,'blue'],\n",
    "        [x,0*x+12,'goldenrod']],\n",
    "       [(0,0)])\n",
    "print(\"L1 = L8: \", (y1[0] == y8[0]) and (y1[1] == y8[1]))\n",
    "print(\"L1 = L7: \", (y1[0] == y7[0]) and (y1[1] == y7[1]))"
   ]
  },
  {
   "cell_type": "markdown",
   "id": "cb7f6f79",
   "metadata": {},
   "source": [
    "Cool right? But let's go back to our \"scalar\" method of solving for these lines. You may feel comfortable with substitution, but here's the rub. Algebra-ing yourself through the weeds isn't always going to practical. What happens when you have $10$ \"lines\" with $10$ variables?\n",
    "\n",
    "Well first thing's first. What we think of as a \"line\" doesn't have the same connotation in more than $2$ variables. What we have are line analogs. So in $3$ dimensions we think of planes which are $2$-dimensional subsets of $\\mathbb{R}^{3}$. For edification, when we have $n$ dimensions we call the object of $n-1$ dimensions a $\\textbf{hyperplane}$. Lines and points also exist as $1$-dimensional and $0$-dimensional subsets. You don't need to know this now, but we call such objects $\\textbf{flats}$.\n",
    "\n",
    "Okay, that's a lot. Let's pull back a second and return to our $\\textbf{system of linear equations}$. In $\\mathbb{R}^{3}$ we think of planes that slice through our space. We want to systematize an approach in $\\mathbb{R}^{3}$ that can work in our $10$, $50$, or $n$-dimensional problems.\n",
    "\n",
    "We're going to need a better approach than substitution, so imagine these three planes:\n",
    "\n",
    "$$\\color{blue}{L_{9}}=\\{(x,y,z)\\in \\mathbb{R}^{3}:-x+y+z=10\\}$$\n",
    "\n",
    "$$\\color{orange}{L_{10}}=\\{(x,y,z)\\in \\mathbb{R}^{3}:4x+12z=12\\}$$\n",
    "\n",
    "$$\\color{green}{L_{11}}=\\{(x,y,z)\\in \\mathbb{R}^{3}:x+2y+3z=12\\}$$\n",
    "\n",
    "Let's graph them in $\\mathbb{R}^{3}$. I will once again use some fancy python stuff. Feel free to ignore it unless interested.\n",
    "\n",
    "First though, let me hand you three magic fractions: $-\\frac{27}{8}$, $\\frac{36}{8}$, and $\\frac{17}{8}$. Watch:\n",
    "\n",
    "$$-x+y+z=-(-\\frac{27}{8})+\\frac{36}{8}+\\frac{17}{8}=\\frac{27}{8}+\\frac{53}{8}=\\frac{80}{8}=10$$\n",
    "\n",
    "$$4x+12z=4(-\\frac{27}{8})+12(\\frac{17}{8})=-\\frac{27}{2}+\\frac{3\\cdot17}{2}=\\frac{51-27}{2}=\\frac{24}{2}=12$$\n",
    "\n",
    "$$x+2y+3z=-\\frac{27}{8}+2(\\frac{36}{8})+3(\\frac{17}{8})=\\frac{-27+72+51}{8}=\\frac{96}{8}=12$$\n",
    "\n",
    "$$!!!!!!!!!!!!!!!$$\n",
    "\n",
    "$$\\text{How'd I find those?!?!?!?!?}$$\n",
    "\n",
    "$$\\text{Let's see.}$$"
   ]
  },
  {
   "cell_type": "code",
   "execution_count": null,
   "id": "10f709ee",
   "metadata": {},
   "outputs": [],
   "source": [
    "from mpl_toolkits import mplot3d"
   ]
  },
  {
   "cell_type": "code",
   "execution_count": null,
   "id": "12355461",
   "metadata": {},
   "outputs": [],
   "source": [
    "x_vals = np.linspace(-16,16,2)\n",
    "y_vals = x\n",
    "x, y = np.meshgrid(x_vals, y_vals)\n",
    "z1 = x-y+10\n",
    "z2 = -(1/3)*x+1\n",
    "z3 = -(1/3)*x-(2/3)*y+4\n",
    "def plot3D(planes, points):\n",
    "    negx, posx, negy, posy, negz, posz, frqncy = -16, 16, -16, 16, -16, 16, 2\n",
    "    fig = plt.figure(figsize=(10,10))\n",
    "    ax = plt.axes(projection='3d')\n",
    "    ax.set(xlim=(negx-1, posx+1), ylim=(negy-1, posy+1), zlim=(negz-1, posz+1), aspect='auto')\n",
    "    x_ticks = np.arange(negx, posx+1, frqncy)\n",
    "    y_ticks = np.arange(negy, posy+1, frqncy)\n",
    "    z_ticks = np.arange(negz, posz+1, frqncy)\n",
    "    ax.set_xticks(x_ticks[x_ticks != 0])\n",
    "    ax.set_yticks(y_ticks[y_ticks != 0])\n",
    "    ax.set_zticks(z_ticks[z_ticks != 0])\n",
    "    ax.set_xticks(np.arange(negx, posx+1), minor=True)\n",
    "    ax.set_yticks(np.arange(negy, posy+1), minor=True)\n",
    "    ax.set_zticks(np.arange(negz, posz+1), minor=True)\n",
    "    w = np.linspace(-25,25,2)\n",
    "    a = 0*w\n",
    "    ax.plot(a,a,w, linestyle='solid', color='black')\n",
    "    ax.plot(a,w,a, linestyle='solid', color='black')\n",
    "    ax.plot(w,a,a, linestyle='solid', color='black')\n",
    "    ax.set_xlabel('x')\n",
    "    ax.set_ylabel('y')\n",
    "    ax.set_zlabel('z')\n",
    "    for ell in planes:\n",
    "        ax.plot_surface(ell[0], ell[1], ell[2], alpha=0.3, color=ell[3])\n",
    "    for point in points:\n",
    "        ax.scatter(point[0],point[1],point[2], color='black')"
   ]
  },
  {
   "cell_type": "markdown",
   "id": "e0ed9152",
   "metadata": {},
   "source": [
    "We will graph our first plane in blue. Notice the point I enter. The algebra above shows that it is indeed on my plane, since it exists on all three planes.\n",
    "\n",
    "$$\\color{blue}{L_{9}}=\\{(x,y,z)\\in \\mathbb{R}^{3}:-x+y+z=10\\}$$"
   ]
  },
  {
   "cell_type": "code",
   "execution_count": null,
   "id": "35356409",
   "metadata": {},
   "outputs": [],
   "source": [
    "plot3D([[x,y,z1,'blue']],\n",
    "       [(-27/8,9/2,17/8)] )"
   ]
  },
  {
   "cell_type": "markdown",
   "id": "8ec7129a",
   "metadata": {},
   "source": [
    "We will graph our second plane in orange, again with our solution on the plane.\n",
    "\n",
    "$$\\color{orange}{L_{10}}=\\{(x,y,z)\\in \\mathbb{R}^{3}:4x+12z=12\\}$$"
   ]
  },
  {
   "cell_type": "code",
   "execution_count": null,
   "id": "eb2a94cb",
   "metadata": {},
   "outputs": [],
   "source": [
    "plot3D([[x,y,z2,'orange']],\n",
    "       [(-27/8,9/2,17/8)] )"
   ]
  },
  {
   "cell_type": "markdown",
   "id": "c0b654c2",
   "metadata": {},
   "source": [
    "We will graph our third plane in green.\n",
    "\n",
    "$$\\color{green}{L_{11}}=\\{(x,y,z)\\in \\mathbb{R}^{3}:x+2y+3z=12\\}$$"
   ]
  },
  {
   "cell_type": "code",
   "execution_count": null,
   "id": "64317c95",
   "metadata": {},
   "outputs": [],
   "source": [
    "plot3D([[x,y,z3,'green']],\n",
    "       [(-27/8,9/2,17/8)] )"
   ]
  },
  {
   "cell_type": "markdown",
   "id": "55b8c66f",
   "metadata": {},
   "source": [
    "Now let's take a look at all $3$ together at once. It's kind of hard to see on the graph, but the point plotted falls at the intersection of all three planes."
   ]
  },
  {
   "cell_type": "code",
   "execution_count": null,
   "id": "8d54e742",
   "metadata": {},
   "outputs": [],
   "source": [
    "plot3D([[x,y,z1,'blue'],\n",
    "        [x,y,z2,'orange'],\n",
    "        [x,y,z3,'green']],\n",
    "       [(-27/8,9/2,17/8)] )"
   ]
  },
  {
   "cell_type": "markdown",
   "id": "6905ae13",
   "metadata": {},
   "source": [
    "Alright. Grab some paper, a pencil, and buckle in. We're going to systematize our method for finding such a point. You will not understand why right now, but we're also going to designate a row marker in our system by $R_{1}$, $R_{2}$, and $R_{3}$. Take a look:\n",
    "\n",
    "$\\hphantom{abcdefghijklmnop}\\bullet R_{1} = \\color{blue}{L_{9}}\\text{ :: }\\hphantom{abcd} (-1)x +(1)y+(1)z=10$\n",
    "\n",
    "$\\hphantom{abcdefghijklmnop}\\bullet R_{2} = \\color{orange}{L_{10}}\\text{ :: }\\hphantom{abcd} (4)x+(0)y+(12)z=12$\n",
    "\n",
    "$\\hphantom{abcdefghijklmnop}\\bullet R_{3} = \\color{green}{L_{11}}\\text{ :: }\\hphantom{abcd} (1)x+(2)y+(3)z=12$\n",
    "\n",
    "In the interest of book-keeping, let's ignore our variables $x$, $y$, and $z$. You'll notice in the \"scalar\" method I proposed that they don't change anyway. The rest we can write down as lists in a $2$D array corresponding to their specific row markers. While doing this, try to keep the last member of each row separate in your mind as that is the right hand side of the equation. Let's see our system:"
   ]
  },
  {
   "cell_type": "code",
   "execution_count": null,
   "id": "98f1c91f",
   "metadata": {},
   "outputs": [],
   "source": [
    "L9 = np.array([-1,1,1,10])\n",
    "L10 = np.array([4,0,12,12])\n",
    "L11 = np.array([1,2,3,12])\n",
    "\n",
    "A = np.array([\n",
    "                L9,\n",
    "                L10,\n",
    "                L11\n",
    "      ])\n",
    "\n",
    "print('System:\\n', A)"
   ]
  },
  {
   "cell_type": "markdown",
   "id": "3c5287a4",
   "metadata": {},
   "source": [
    "Now in order to solve this, presuming it can be solved, we want to find values for $x$, $y$, and $z$. Later it could be revealed that they have a range of solutions, but we know at least one exists because we've seen it. In order to find all possible solutions while sticking far away from the substitution method, we will play a little game. Everything will clear up shortly, but for now just trust the algebra to work itself out.\n",
    "\n",
    "$$\\textbf{MATH WARNING!!!}$$\n",
    "\n",
    "To introduce a slight amount of rigor, let's say $L_{i}=\\{(x,y,z)\\in \\mathbb{R}^{3}:a_{1}x+b_{1}y+c_{1}y=d_{1}\\}$ and $L_{j}=\\{(x,y,z)\\in \\mathbb{R}^{3}:a_{2}x+b_{2}y+c_{2}y=d_{2}\\}$ are planes where scalar coeffiencts are $a_{k},b_{k},c_{k}\\in \\mathbb{R}$ where $k\\in \\{1,2\\}$. Let $\\alpha, \\lambda\\in \\mathbb{R}$ be scalars, and we define the $\\textbf{linear combination}$ of scaled planes as follows:\n",
    "\n",
    "$$\\alpha L_{i}+\\lambda L_{j}$$\n",
    "$$ = \\{(x,y,z)\\in \\mathbb{R}^{3}:\\alpha(a_{1}x+b_{1}y+c_{1}y)=\\alpha d_{1}\\}+ \\{(x,y,z)\\in \\mathbb{R}^{3}:\\lambda(a_{2}x+b_{2}y+c_{2}y)=\\lambda d_{2}\\}$$\n",
    "$$ = \\{(x,y,z)\\in \\mathbb{R}^{3}:(\\alpha a_{1}+\\lambda a_{2})x + (\\alpha b_{1}+\\lambda b_{2})y + (\\alpha c_{1}+\\lambda c_{2})z = \\alpha d_{1}+\\lambda d_{2}\\} $$\n",
    "\n",
    "Effectively it's just how you'd expect. It probably is a little more involved than you want to get at this stage, but that's fine. It's important to at least glimpse at what we're actually doing should you want to extend it to higher dimensions. For now let's go back to the safety of concrete examples.\n",
    "\n",
    "$$\\textbf{and it's gone...you're safe...}$$\n",
    "\n",
    "Alright. This \"scalar\" method I've been talking about is more formally thought about in terms of these systems. Because we see them as $2$D arrays with rows, the method is called $\\textbf{row reduction}$. It has three basic rules which are contraints based on the algebra going on underneath. We can:\n",
    "\n",
    "$\\hphantom{abcdefghijklmnop}\\bullet \\textbf{SCALE}$ as in multiply by some real number\n",
    "\n",
    "$\\hphantom{abcdefghijklmnop}\\bullet \\textbf{ADD}$ as in combine two rows by adding or subtracting\n",
    "\n",
    "$\\hphantom{abcdefghijklmnop}\\bullet \\textbf{SWAP}$ as in exchange two rows\n",
    "\n",
    "All three of these rules are really a consequence of one rule: we are allowed to manipulate any of these lines via $\\textbf{linear combinations}$ to solve our system. That will probably mean almost nothing to you now, but it will later. Okay, let's get started!\n",
    "\n",
    "Let's scale the plane at $R_{2}$ by $\\frac{1}{4}$:\n",
    "\n",
    "$\\hphantom{abcdefghijklmnop}\\bullet R_{1} = \\color{blue}{L_{9}}\\text{ :: }\\hphantom{abcd} (-1)x +(1)y+(1)z=10$\n",
    "\n",
    "$\\hphantom{abcdefghijklmnop}\\bullet R_{2} = \\frac{1}{4}\\color{orange}{L_{10}}\\text{ :: }\\hphantom{abcd} (1)x+(0)y+(3)z=3$\n",
    "\n",
    "$\\hphantom{abcdefghijklmnop}\\bullet R_{3} = \\color{green}{L_{11}}\\text{ :: }\\hphantom{abcd} (1)x+(2)y+(3)z=12$\n",
    "\n",
    "Where $R_{2}$ exists we substitute $\\frac{1}{4}$ multiplied by the current contents of $R_{2}$:\n",
    "\n",
    "$$ \\frac{1}{4}R_{2}\\longrightarrow R_{2} $$"
   ]
  },
  {
   "cell_type": "code",
   "execution_count": null,
   "id": "556939d1",
   "metadata": {},
   "outputs": [],
   "source": [
    "A = np.array([\n",
    "                L9,\n",
    "                (1/4)*L10,\n",
    "                L11\n",
    "      ])\n",
    "\n",
    "print('System:\\n', A)"
   ]
  },
  {
   "cell_type": "markdown",
   "id": "c5dcf91f",
   "metadata": {},
   "source": [
    "Next, at $R_{3}$ we will subtract the plane at $R_{2}$ to create a $\\textbf{linear combination}$ $\\color{green}{L_{11}}-\\frac{1}{4}\\color{orange}{L_{10}}$. Notice how this creates zeros among the coefficients. $\\textit{That}$ is precisely the game we want to play! $\\text{We want zeros!}$ The more zeros the better!\n",
    "\n",
    "$\\textbf{IMPORTANT:}$ Making sure you apply the manipulation to both sides of the equation is easy to forget. I have made this mistake hundreds of times! Try your best to remember.\n",
    "\n",
    "That said or new manipultion is:\n",
    "\n",
    "$$ R_{3} - R_{2}\\longrightarrow R_{3} $$ \n",
    "\n",
    "The result:\n",
    "\n",
    "$\\hphantom{abcdefghijklmnop}\\bullet R_{1} = \\color{blue}{L_{9}}\\text{ :: }\\hphantom{abcd} (-1)x +(1)y+(1)z=10$\n",
    "\n",
    "$\\hphantom{abcdefghijklmnop}\\bullet R_{2} = \\frac{1}{4}\\color{orange}{L_{10}}\\text{ :: }\\hphantom{abcd} (1)x+(0)y+(3)z=3$\n",
    "\n",
    "$\\hphantom{abcdefghijklmnop}\\bullet R_{3} = \\color{green}{L_{11}}-\\frac{1}{4}\\color{orange}{L_{10}}\\text{ :: }\\hphantom{abcd}(0)x+(2)y+(0)z=9$"
   ]
  },
  {
   "cell_type": "code",
   "execution_count": null,
   "id": "d874d22e",
   "metadata": {},
   "outputs": [],
   "source": [
    "A = np.array([\n",
    "                L9,\n",
    "                (1/4)*L10,\n",
    "                L11-(1/4)*L10\n",
    "      ])\n",
    "\n",
    "print('System:\\n', A)"
   ]
  },
  {
   "cell_type": "markdown",
   "id": "8a2ff3f5",
   "metadata": {},
   "source": [
    "Next we take the plane at $R_{1}$ and add the plane at $R_{2}$ to it to create:\n",
    "\n",
    "$$ R_{1}+R_{2}\\longrightarrow R_{1} $$\n",
    "\n",
    "$\\hphantom{abcdefghijklmnop}\\bullet R_{1} = \\color{blue}{L_{9}}+\\frac{1}{4}\\color{orange}{L_{10}}\\text{ :: }\\hphantom{abcd} (0)x +(1)y+(4)z=13$\n",
    "\n",
    "$\\hphantom{abcdefghijklmnop}\\bullet R_{2} = \\frac{1}{4}\\color{orange}{L_{10}}\\text{ :: }\\hphantom{abcd} (1)x+(0)y+(3)z=3$\n",
    "\n",
    "$\\hphantom{abcdefghijklmnop}\\bullet R_{3} = \\color{green}{L_{11}}-\\frac{1}{4}\\color{orange}{L_{10}}\\text{ :: }\\hphantom{abcd}(0)x+(2)y+(0)z=9$\n",
    "\n",
    "We then divide the plane at $R_{3}$ by $2$ because we want to use it to cancel out some of the contents in $R_{1}$:\n",
    "\n",
    "$$ \\frac{1}{2}R_{3}\\longrightarrow R_{3} $$\n",
    "\n",
    "$\\hphantom{abcdefghijklmnop}\\bullet R_{1} = \\color{blue}{L_{9}}+\\frac{1}{4}\\color{orange}{L_{10}}\\text{ :: }\\hphantom{abcd} (0)x +(1)y+(4)z=13$\n",
    "\n",
    "$\\hphantom{abcdefghijklmnop}\\bullet R_{2} = \\frac{1}{4}\\color{orange}{L_{10}}\\text{ :: }\\hphantom{abcd} (1)x+(0)y+(3)z=3$\n",
    "\n",
    "$\\hphantom{abcdefghijklmnop}\\bullet R_{3} = \\frac{1}{2}\\color{green}{L_{11}}-\\frac{1}{8}\\color{orange}{L_{10}}\\text{ :: }\\hphantom{abcd}(0)x+(1)y+(0)z=\\frac{9}{2}$\n",
    "\n",
    "I know fractions are scary, but for now stick with it. This process is a little painstaking to learn, but the thought process behind this sequence is one of the most powerful weapons in all of mathematics. "
   ]
  },
  {
   "cell_type": "code",
   "execution_count": null,
   "id": "74921ce7",
   "metadata": {},
   "outputs": [],
   "source": [
    "A = np.array([\n",
    "                L9+(1/4)*L10,\n",
    "                (1/4)*L10,\n",
    "                (1/2)*(L11-(1/4)*L10)\n",
    "      ])\n",
    "\n",
    "print('System:\\n', A)"
   ]
  },
  {
   "cell_type": "markdown",
   "id": "279816b7",
   "metadata": {},
   "source": [
    "Now we can subtract the plane at $R_{1}$ by the plane at $R_{3}$ to get the following system. Remember! Don't forget to manipulate both sides!\n",
    "\n",
    "$$ R_{1}-R_{3}\\longrightarrow R_{1} $$\n",
    "\n",
    "$\\hphantom{abcdefghijklmnop}\\bullet R_{1} = \\color{blue}{L_{9}}+\\frac{1}{8}\\color{orange}{L_{10}}-\\frac{1}{2}\\color{green}{L_{11}}\\text{ :: }\\hphantom{abcd} (0)x +(0)y+(4)z=\\frac{17}{2}$\n",
    "\n",
    "$\\hphantom{abcdefghijklmnop}\\bullet R_{2} = \\frac{1}{4}\\color{orange}{L_{10}}\\text{ :: }\\hphantom{abcd} (1)x+(0)y+(3)z=3$\n",
    "\n",
    "$\\hphantom{abcdefghijklmnop}\\bullet R_{3} = \\frac{1}{2}\\color{green}{L_{11}}-\\frac{1}{8}\\color{orange}{L_{10}}\\text{ :: }\\hphantom{abcd}(0)x+(1)y+(0)z=\\frac{9}{2}$\n",
    "\n",
    "If you want to check the algebra on this one, for the linear combination we basically got:\n",
    "\n",
    "$$\\color{blue}{L_{9}}+\\frac{1}{4}\\color{orange}{L_{10}}-\\frac{1}{2}\\color{green}{L_{11}}+\\frac{1}{8}\\color{orange}{L_{10}}=\\color{blue}{L_{9}}+(\\frac{1}{4}+\\frac{1}{8})\\color{orange}{L_{10}}-\\frac{1}{2}\\color{green}{L_{11}}=\\color{blue}{L_{9}}+\\frac{3}{8}\\color{orange}{L_{10}}-\\frac{1}{2}\\color{green}{L_{11}}$$\n",
    "\n",
    "For the right hand side we see:\n",
    "\n",
    "$$13-\\frac{9}{2}=\\frac{26}{2}-\\frac{9}{2}=\\frac{26-9}{2}=\\frac{17}{2} $$\n",
    "\n",
    "Good? I know these manipulations and fractions can be tedious. God, do I know. However!!! This is a little bit more detail than we will need to keep track of soon. Once we build the scaffolding of this method, we can pull out some of this excess tedium to reveal a nice algorithm for manipulating all systems of linear of equations.\n",
    "\n",
    "Turning back to our current one, we scale the plane at $R_{1}$ by $\\frac{1}{4}$ to get:\n",
    "\n",
    "$$ \\frac{1}{4}R_{1}\\longrightarrow R_{1} $$\n",
    "\n",
    "$\\hphantom{abcdefghijklmnop}\\bullet R_{1} = \\frac{1}{4}\\color{blue}{L_{9}}+\\frac{1}{32}\\color{orange}{L_{10}}-\\frac{1}{8}\\color{green}{L_{11}}\\text{ :: }\\hphantom{abcd} (0)x +(0)y+(1)z=\\frac{17}{8}$\n",
    "\n",
    "$\\hphantom{abcdefghijklmnop}\\bullet R_{2} = \\frac{1}{4}\\color{orange}{L_{10}}\\text{ :: }\\hphantom{abcd} (1)x+(0)y+(3)z=3$\n",
    "\n",
    "$\\hphantom{abcdefghijklmnop}\\bullet R_{3} = \\frac{1}{2}\\color{green}{L_{11}}-\\frac{1}{8}\\color{orange}{L_{10}}\\text{ :: }\\hphantom{abcd}(0)x+(1)y+(0)z=\\frac{9}{2}$"
   ]
  },
  {
   "cell_type": "code",
   "execution_count": null,
   "id": "d1baf6d9",
   "metadata": {},
   "outputs": [],
   "source": [
    "A = np.array([\n",
    "                (1/4)*(L9+(1/4)*L10-(1/2)*(L11-(1/4)*L10)),\n",
    "                (1/4)*L10,\n",
    "                (1/2)*(L11-(1/4)*L10)\n",
    "      ])\n",
    "\n",
    "print('System:\\n', A)"
   ]
  },
  {
   "cell_type": "markdown",
   "id": "d3c7fdc8",
   "metadata": {},
   "source": [
    "\n",
    "Next we subtract $3$ times the plane at $R_{1}$ from the plane at $R_{2}$ to get:\n",
    "\n",
    "$$ R_{2}-3R_{1} \\longrightarrow R_{2} $$\n",
    "\n",
    "$\\hphantom{abcdefghijklmnop}\\bullet R_{1} = \\frac{1}{4}\\color{blue}{L_{9}}+\\frac{1}{32}\\color{orange}{L_{10}}-\\frac{1}{8}\\color{green}{L_{11}}\\text{ :: }\\hphantom{abcd} (0)x +(0)y+(1)z=\\frac{17}{8}$\n",
    "\n",
    "$\\hphantom{abcdefghijklmnop}\\bullet R_{2} = -\\frac{3}{4}\\color{blue}{L_{9}}+\\frac{7}{32}\\color{orange}{L_{10}}+\\frac{1}{8}\\color{green}{L_{11}}\\text{ :: }\\hphantom{abcd} (1)x+(0)y+(0)z=\\frac{24}{8}-\\frac{51}{8}=-\\frac{27}{8}$\n",
    "\n",
    "$\\hphantom{abcdefghijklmnop}\\bullet R_{3} = \\frac{1}{2}\\color{green}{L_{11}}-\\frac{1}{8}\\color{orange}{L_{10}}\\text{ :: }\\hphantom{abcd}(0)x+(1)y+(0)z=\\frac{9}{2}$"
   ]
  },
  {
   "cell_type": "code",
   "execution_count": null,
   "id": "f8693e9f",
   "metadata": {},
   "outputs": [],
   "source": [
    "A = np.array([\n",
    "                (1/4)*(L9+(1/4)*L10-(1/2)*(L11-(1/4)*L10)),\n",
    "                (1/4)*L10-3*(1/4)*(L9+(1/4)*L10-(1/2)*(L11-(1/4)*L10)),\n",
    "                (1/2)*(L11-(1/4)*L10)\n",
    "      ])\n",
    "\n",
    "print('System:\\n', A)"
   ]
  },
  {
   "cell_type": "markdown",
   "id": "22c860ae",
   "metadata": {},
   "source": [
    "Take a breath. I know this is a lot. We pretty much have what we want, but let's just do one last easy thing that we're allowed to do at any point. We can reshuffle what is in our rows without consequece.\n",
    "\n",
    "First we swap $R_{1}$ and $R_{3}$:\n",
    "\n",
    "$$ R_{1}\\iff R_{3}$$\n",
    "\n",
    "$\\hphantom{abcdefghijklmnop}\\bullet R_{1} = \\frac{1}{2}\\color{green}{L_{11}}-\\frac{1}{8}\\color{orange}{L_{10}}\\text{ :: }\\hphantom{abcd}(0)x+(1)y+(0)z=\\frac{9}{2}$\n",
    "\n",
    "$\\hphantom{abcdefghijklmnop}\\bullet R_{2} = -\\frac{3}{4}\\color{blue}{L_{9}}+\\frac{7}{32}\\color{orange}{L_{10}}+\\frac{1}{8}\\color{green}{L_{11}}\\text{ :: }\\hphantom{abcd} (1)x+(0)y+(0)z=-\\frac{27}{8}$\n",
    "\n",
    "$\\hphantom{abcdefghijklmnop}\\bullet R_{3} = \\frac{1}{4}\\color{blue}{L_{9}}+\\frac{1}{32}\\color{orange}{L_{10}}-\\frac{1}{8}\\color{green}{L_{11}}\\text{ :: }\\hphantom{abcd} (0)x +(0)y+(1)z=\\frac{17}{8}$\n",
    "\n",
    "Then we swap our new $R_{1}$ with $R_{2}$:\n",
    "\n",
    "$$ R_{1}\\iff R_{2} $$\n",
    "\n",
    "$\\hphantom{abcdefghijklmnop}\\bullet R_{1} = -\\frac{3}{4}\\color{blue}{L_{9}}+\\frac{7}{32}\\color{orange}{L_{10}}+\\frac{1}{8}\\color{green}{L_{11}}\\text{ :: }\\hphantom{abcd} (1)x+(0)y+(0)z=\\frac{24}{8}-\\frac{51}{8}=-\\frac{27}{8}$\n",
    "\n",
    "$\\hphantom{abcdefghijklmnop}\\bullet R_{2} = \\frac{1}{2}\\color{green}{L_{11}}-\\frac{1}{8}\\color{orange}{L_{10}}\\text{ :: }\\hphantom{abcd}(0)x+(1)y+(0)z=\\frac{9}{2}$\n",
    "\n",
    "$\\hphantom{abcdefghijklmnop}\\bullet R_{3} = \\frac{1}{4}\\color{blue}{L_{9}}+\\frac{1}{32}\\color{orange}{L_{10}}-\\frac{1}{8}\\color{green}{L_{11}}\\text{ :: }\\hphantom{abcd} (0)x +(0)y+(1)z=\\frac{17}{8}$\n",
    "\n",
    "$R_{3}$ moved to the end, $R_{1}$ moved up one, and $R_{2}$ likewise moved up one. Any other ordering is okay but now our system, dropping off all the extra baggage, looks like this:\n",
    "\n",
    "$$ (1)x+(0)y+(0)z =-\\frac{27}{8} $$\n",
    "$$ (0)x+(1)y+(0)z =\\frac{9}{2} $$\n",
    "$$ (0)x+(0)y+(1)z = \\frac{17}{8} $$\n",
    "\n",
    "While it doesn't matter much, we call this form the $\\textbf{reduced row echelon form}$. You will see it better in the $2$D form printed by the code. It doesn't mean anything really except that we can't reduce anymore and the front of row is $0$ or $1$. It is also written in sequentially rightward shrinking ordering making a diagonal. You won't always get a perfect diagonal or a perfect system as we will see later. For now, just think of this as a nice way to express your results. Better yet, for a little sneak peak of what's to come let's group the $x$, $y$, and $z$ together:\n",
    "\n",
    "$$x\\begin{pmatrix}\n",
    "1\\\\\n",
    "0\\\\\n",
    "0\n",
    "\\end{pmatrix}+y\\begin{pmatrix}\n",
    "0\\\\\n",
    "1\\\\\n",
    "0\n",
    "\\end{pmatrix}+z\\begin{pmatrix}\n",
    "0\\\\\n",
    "0\\\\\n",
    "1\n",
    "\\end{pmatrix}=\\begin{pmatrix}\n",
    "-\\frac{27}{8}\\\\\n",
    "\\frac{9}{2}\\\\\n",
    "\\frac{17}{8}\n",
    "\\end{pmatrix}$$\n",
    "\n",
    "Either way we have solved for our system with $x=-\\frac{27}{8}$, $y=\\frac{9}{2}=\\frac{36}{8}$, and $z=\\frac{17}{8}$. That wasn't so bad, right? I mean there was a lot of drama; a lot of blood, sweat, and tears. But! We surived!"
   ]
  },
  {
   "cell_type": "code",
   "execution_count": null,
   "id": "e88c3e8e",
   "metadata": {},
   "outputs": [],
   "source": [
    "A = np.array([\n",
    "                (1/4)*L10-3*(1/4)*(L9+(1/4)*L10-(1/2)*(L11-(1/4)*L10)),\n",
    "                (1/2)*(L11-(1/4)*L10),\n",
    "                (1/4)*(L9+(1/4)*L10-(1/2)*(L11-(1/4)*L10))\n",
    "      ])\n",
    "\n",
    "print('System:\\n', A)"
   ]
  },
  {
   "cell_type": "markdown",
   "id": "9af0ec13",
   "metadata": {},
   "source": [
    "Of course our paper manipulations should match the code, which clearly lacks fractions. Let's check:"
   ]
  },
  {
   "cell_type": "code",
   "execution_count": null,
   "id": "9a3f5fd8",
   "metadata": {},
   "outputs": [],
   "source": [
    "print('x = -27/8 : ', -(27/8) == A[0][3])\n",
    "print('y = 36//8 : ', (36/8) == A[1][3])\n",
    "print('z = 17/8 : ', (17/8) == A[2][3])"
   ]
  },
  {
   "cell_type": "markdown",
   "id": "203d85b9",
   "metadata": {},
   "source": [
    "Okay, decompression time. We did a lot just now. There are a lot of moving parts. I'm sure it might have been overwhelming for those first seeing it, but that's okay. Soon all we will care about is the scaffoling. The $2$D arrays that we printed out are just $\\textbf{matrices}$ as you have possibly seen before. They are effectively little packages of information that we can manipulate to solve problems, but they have even deeper mathematical roots. In time we will pull away from everything else and just leave the matrices. Solving in a few simple algorithmic steps, particularly if we don't have to handwrite everything, is a lot more forgiving than the substitution loop of chaos.\n",
    "\n",
    "Let's run through this real quick to see what happened:"
   ]
  },
  {
   "cell_type": "code",
   "execution_count": null,
   "id": "c5f006e5",
   "metadata": {},
   "outputs": [],
   "source": [
    "R1, R2, R3 = L9, L10, L11\n",
    "\n",
    "print('Step 1: Base\\n',  np.array([R1,R2,R3]), '\\n')\n",
    "\n",
    "R2 = (1/4)*R2\n",
    "\n",
    "print('Step 2: R2 <- (1/4)R2\\n',  np.array([R1,R2,R3]), '\\n')\n",
    "\n",
    "R3 = R3-R2\n",
    "\n",
    "print('Step 3: R3 <- R3-R2\\n',  np.array([R1,R2,R3]), '\\n')\n",
    "\n",
    "R1 = R1+R2\n",
    "\n",
    "print('Step 4: R1 <- R1+R2\\n',  np.array([R1,R2,R3]), '\\n')\n",
    "\n",
    "R3 = (1/2)*R3\n",
    "\n",
    "print('Step 5: R3 <- (1/2)R3\\n',  np.array([R1,R2,R3]), '\\n')\n",
    "\n",
    "R1 = R1-R3\n",
    "\n",
    "print('Step 6: R1 <- R1-R3\\n',  np.array([R1,R2,R3]), '\\n')\n",
    "\n",
    "R1 = (1/4)*R1\n",
    "\n",
    "print('Step 7: R1 <- (1/4)R1\\n',  np.array([R1,R2,R3]), '\\n')\n",
    "\n",
    "R2 = R2-3*R1\n",
    "\n",
    "print('Step 8: R2 <- R2-(3)R1\\n',  np.array([R1,R2,R3]), '\\n')\n",
    "\n",
    "T = R3\n",
    "R3 = R1\n",
    "R1 = T\n",
    "\n",
    "print('Step 9: R1 <-> R3\\n',  np.array([R1,R2,R3]), '\\n')\n",
    "\n",
    "T = R2\n",
    "R2 = R1\n",
    "R1 = T\n",
    "\n",
    "print('Step 10: R1 <-> R2\\n',  np.array([R1,R2,R3]), '\\n')\n"
   ]
  },
  {
   "cell_type": "markdown",
   "id": "ba22ab71",
   "metadata": {},
   "source": [
    "Okay. Things will get cleaner and nicer as you practice, I promise.\n",
    "\n",
    "That aside, you may also be wondering what other solution sets are out there. This time we saw $\\color{blue}{L_{9}}\\cap \\color{orange}{L_{10}}\\cap\\color{green}{L_{11}}=\\{(-\\frac{27}{8},\\frac{36}{8},\\frac{17}{8})\\}$. It is a single point. Other times the solution space will be infinite or empty. You will come across all of these cases in time and learn to pick out when they occur. We will also discover some nice properties along the way when situations align that are just right.\n",
    "\n",
    "For now, take a break. You've earned it. Maybe then try other $3$-variable, $3$-equality systems or even venture into higher dimensions with $4$ variables and $4$ equations or $5$ variables and $5$ equations.\n",
    "\n",
    "Until the next lesson! Goodbye!"
   ]
  }
 ],
 "metadata": {
  "kernelspec": {
   "display_name": "Python 3",
   "language": "python",
   "name": "python3"
  },
  "language_info": {
   "codemirror_mode": {
    "name": "ipython",
    "version": 3
   },
   "file_extension": ".py",
   "mimetype": "text/x-python",
   "name": "python",
   "nbconvert_exporter": "python",
   "pygments_lexer": "ipython3",
   "version": "3.8.8"
  }
 },
 "nbformat": 4,
 "nbformat_minor": 5
}
